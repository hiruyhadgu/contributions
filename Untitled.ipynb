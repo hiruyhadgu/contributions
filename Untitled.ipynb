{
 "cells": [
  {
   "cell_type": "code",
   "execution_count": 49,
   "id": "779576a1",
   "metadata": {},
   "outputs": [],
   "source": [
    "import pandas as pd\n",
    "import sqlite3 as db\n",
    "import xlwings as xw"
   ]
  },
  {
   "cell_type": "code",
   "execution_count": 50,
   "id": "23092b7d",
   "metadata": {},
   "outputs": [],
   "source": [
    "conn = db.connect('pages/contributions.db')\n",
    "c = conn.cursor()"
   ]
  },
  {
   "cell_type": "code",
   "execution_count": 3,
   "id": "a758eb9b",
   "metadata": {},
   "outputs": [],
   "source": [
    "ws = xw.Book('ContributionsList.xls').sheets['ContributionsList']"
   ]
  },
  {
   "cell_type": "code",
   "execution_count": 4,
   "id": "40737fdf",
   "metadata": {},
   "outputs": [],
   "source": [
    "table = ws.range(\"A1:L313\").value"
   ]
  },
  {
   "cell_type": "code",
   "execution_count": 5,
   "id": "5e49f6cb",
   "metadata": {},
   "outputs": [],
   "source": [
    "table = pd.DataFrame(table, columns=table[0])"
   ]
  },
  {
   "cell_type": "code",
   "execution_count": 6,
   "id": "c5c2751a",
   "metadata": {},
   "outputs": [],
   "source": [
    "table.drop([0], inplace=True)"
   ]
  },
  {
   "cell_type": "code",
   "execution_count": 7,
   "id": "881b3845",
   "metadata": {},
   "outputs": [],
   "source": [
    "table['Candidate Name'] = 'Liz Walsh'"
   ]
  },
  {
   "cell_type": "code",
   "execution_count": 8,
   "id": "bcee375d",
   "metadata": {},
   "outputs": [],
   "source": [
    "table['Office'] = 'County Council'"
   ]
  },
  {
   "cell_type": "code",
   "execution_count": 9,
   "id": "47331fef",
   "metadata": {},
   "outputs": [],
   "source": [
    "table['Councilmanic District'] = 'District 1'"
   ]
  },
  {
   "cell_type": "code",
   "execution_count": 11,
   "id": "c020582e",
   "metadata": {},
   "outputs": [],
   "source": [
    "table = table.to_sql('liz_walsh_d1',conn)"
   ]
  },
  {
   "cell_type": "code",
   "execution_count": 51,
   "id": "3c14109d",
   "metadata": {},
   "outputs": [],
   "source": [
    "def upload_to_sql(xl_name, r1_r2, cand_name, office, district, db_file):\n",
    "    ws = xw.Book(xl_name + '.xls').sheets[xl_name]\n",
    "    table = ws.range(r1_r2).value\n",
    "    table = pd.DataFrame(table, columns=table[0])\n",
    "    table.drop([0], inplace=True)\n",
    "    table['Candidate Name'] = f'{cand_name}'\n",
    "    table['Office'] = f'{office}'\n",
    "    table['Councilmanic District'] = f'{district}'\n",
    "    table = table.to_sql(db_file, conn, if_exists = 'append')"
   ]
  },
  {
   "cell_type": "code",
   "execution_count": 26,
   "id": "82fbcd41",
   "metadata": {},
   "outputs": [],
   "source": [
    "upload_to_sql('ContributionsList16', 'A1:L2975', 'Allan Kitttleman', 'County Executive', 'County Executive', 'allan_kittleman_ce')"
   ]
  },
  {
   "cell_type": "code",
   "execution_count": 52,
   "id": "1f2edd47",
   "metadata": {},
   "outputs": [],
   "source": [
    "upload_to_sql('ContributionsList (3)', 'A1:L1375', 'Jon Weinstein', 'County Council', 'District 1', 'jon_weinstein_d1')"
   ]
  },
  {
   "cell_type": "code",
   "execution_count": 60,
   "id": "b803713b",
   "metadata": {},
   "outputs": [],
   "source": [
    "upload_to_sql('ContributionsList (4)', 'A1:L319', 'China Williams', 'County Council', 'District 5', 'china_williams_d5')"
   ]
  },
  {
   "cell_type": "code",
   "execution_count": 27,
   "id": "2660ff59",
   "metadata": {},
   "outputs": [],
   "source": [
    "upload_to_sql('ContributionsList5', 'A1:L209', 'Neveen Kurtom', 'County Council', 'District 1', 'neveen_kurtom_d1')"
   ]
  },
  {
   "cell_type": "code",
   "execution_count": 45,
   "id": "90e61685",
   "metadata": {},
   "outputs": [],
   "source": [
    "upload_to_sql('ContributionsList (3)','A1:L2187', 'Courtney Watson', 'County Executive', 'County Executive', 'courtney_watson_ce' )"
   ]
  },
  {
   "cell_type": "code",
   "execution_count": 52,
   "id": "bd016c60",
   "metadata": {},
   "outputs": [],
   "source": [
    "table = pd.read_sql_query('select * from liz_walsh_d1',conn)"
   ]
  },
  {
   "cell_type": "code",
   "execution_count": 54,
   "id": "5e2d5945",
   "metadata": {},
   "outputs": [],
   "source": [
    "table['Contribution Date'] = pd.to_datetime(table['Contribution Date']).dt.date\n",
    "table['Contribution Amount'] = table['Contribution Amount'].astype(float)\n",
    "table = table.drop(columns='index')"
   ]
  },
  {
   "cell_type": "code",
   "execution_count": 61,
   "id": "d9ab8b2f",
   "metadata": {},
   "outputs": [],
   "source": [
    "grouped = table.set_index(['Filing Period' , 'Receiving Committee'])"
   ]
  },
  {
   "cell_type": "code",
   "execution_count": 63,
   "id": "04096d74",
   "metadata": {},
   "outputs": [],
   "source": [
    "grouped=grouped.groupby(level=[0,1]).sum().unstack()"
   ]
  },
  {
   "cell_type": "code",
   "execution_count": 67,
   "id": "07b481a1",
   "metadata": {},
   "outputs": [],
   "source": [
    "grouped.columns=['Liz Walsh 1' , 'Liz Walsh 2']"
   ]
  },
  {
   "cell_type": "code",
   "execution_count": 68,
   "id": "3b95bc68",
   "metadata": {},
   "outputs": [
    {
     "data": {
      "text/html": [
       "<div>\n",
       "<style scoped>\n",
       "    .dataframe tbody tr th:only-of-type {\n",
       "        vertical-align: middle;\n",
       "    }\n",
       "\n",
       "    .dataframe tbody tr th {\n",
       "        vertical-align: top;\n",
       "    }\n",
       "\n",
       "    .dataframe thead th {\n",
       "        text-align: right;\n",
       "    }\n",
       "</style>\n",
       "<table border=\"1\" class=\"dataframe\">\n",
       "  <thead>\n",
       "    <tr style=\"text-align: right;\">\n",
       "      <th></th>\n",
       "      <th>Liz Walsh 1</th>\n",
       "      <th>Liz Walsh 2</th>\n",
       "    </tr>\n",
       "    <tr>\n",
       "      <th>Filing Period</th>\n",
       "      <th></th>\n",
       "      <th></th>\n",
       "    </tr>\n",
       "  </thead>\n",
       "  <tbody>\n",
       "    <tr>\n",
       "      <th>2018 Gubernatorial Post-General</th>\n",
       "      <td>7052.43</td>\n",
       "      <td>NaN</td>\n",
       "    </tr>\n",
       "    <tr>\n",
       "      <th>2018 Gubernatorial Pre-General1 Report</th>\n",
       "      <td>4940.13</td>\n",
       "      <td>NaN</td>\n",
       "    </tr>\n",
       "    <tr>\n",
       "      <th>2018 Gubernatorial Pre-General2 Report</th>\n",
       "      <td>12644.39</td>\n",
       "      <td>NaN</td>\n",
       "    </tr>\n",
       "    <tr>\n",
       "      <th>2018 Gubernatorial Pre-Primary1</th>\n",
       "      <td>3717.87</td>\n",
       "      <td>NaN</td>\n",
       "    </tr>\n",
       "    <tr>\n",
       "      <th>2018 Gubernatorial Pre-Primary2</th>\n",
       "      <td>1362.55</td>\n",
       "      <td>NaN</td>\n",
       "    </tr>\n",
       "    <tr>\n",
       "      <th>2018 Gubernatorial Spring Report</th>\n",
       "      <td>5698.72</td>\n",
       "      <td>NaN</td>\n",
       "    </tr>\n",
       "    <tr>\n",
       "      <th>2019 Annual</th>\n",
       "      <td>312.00</td>\n",
       "      <td>NaN</td>\n",
       "    </tr>\n",
       "    <tr>\n",
       "      <th>2020 Annual</th>\n",
       "      <td>112.00</td>\n",
       "      <td>NaN</td>\n",
       "    </tr>\n",
       "    <tr>\n",
       "      <th>2022 Annual</th>\n",
       "      <td>493.00</td>\n",
       "      <td>NaN</td>\n",
       "    </tr>\n",
       "    <tr>\n",
       "      <th>2022 Gubernatorial Matching Fund Report</th>\n",
       "      <td>NaN</td>\n",
       "      <td>45087.58</td>\n",
       "    </tr>\n",
       "    <tr>\n",
       "      <th>2022 Gubernatorial Pre-General1 Report</th>\n",
       "      <td>NaN</td>\n",
       "      <td>275.00</td>\n",
       "    </tr>\n",
       "    <tr>\n",
       "      <th>2022 Gubernatorial Pre-General2 Report</th>\n",
       "      <td>NaN</td>\n",
       "      <td>200.00</td>\n",
       "    </tr>\n",
       "    <tr>\n",
       "      <th>2022 Gubernatorial Pre-Primary1</th>\n",
       "      <td>NaN</td>\n",
       "      <td>18077.56</td>\n",
       "    </tr>\n",
       "    <tr>\n",
       "      <th>2022 Gubernatorial Pre-Primary2</th>\n",
       "      <td>NaN</td>\n",
       "      <td>2029.44</td>\n",
       "    </tr>\n",
       "    <tr>\n",
       "      <th>2023 Annual</th>\n",
       "      <td>NaN</td>\n",
       "      <td>500.00</td>\n",
       "    </tr>\n",
       "  </tbody>\n",
       "</table>\n",
       "</div>"
      ],
      "text/plain": [
       "                                         Liz Walsh 1  Liz Walsh 2\n",
       "Filing Period                                                    \n",
       "2018 Gubernatorial Post-General              7052.43          NaN\n",
       "2018 Gubernatorial Pre-General1 Report       4940.13          NaN\n",
       "2018 Gubernatorial Pre-General2 Report      12644.39          NaN\n",
       "2018 Gubernatorial Pre-Primary1              3717.87          NaN\n",
       "2018 Gubernatorial Pre-Primary2              1362.55          NaN\n",
       "2018 Gubernatorial Spring Report             5698.72          NaN\n",
       "2019 Annual                                   312.00          NaN\n",
       "2020 Annual                                   112.00          NaN\n",
       "2022 Annual                                   493.00          NaN\n",
       "2022 Gubernatorial Matching Fund Report          NaN     45087.58\n",
       "2022 Gubernatorial Pre-General1 Report           NaN       275.00\n",
       "2022 Gubernatorial Pre-General2 Report           NaN       200.00\n",
       "2022 Gubernatorial Pre-Primary1                  NaN     18077.56\n",
       "2022 Gubernatorial Pre-Primary2                  NaN      2029.44\n",
       "2023 Annual                                      NaN       500.00"
      ]
     },
     "execution_count": 68,
     "metadata": {},
     "output_type": "execute_result"
    }
   ],
   "source": [
    "grouped"
   ]
  },
  {
   "cell_type": "code",
   "execution_count": 69,
   "id": "494b5193",
   "metadata": {},
   "outputs": [],
   "source": [
    "ws = xw.Book('ContributionsList (4).xls').sheets['ContributionsList (4).xls']"
   ]
  },
  {
   "cell_type": "code",
   "execution_count": 70,
   "id": "59435d36",
   "metadata": {},
   "outputs": [],
   "source": [
    "table = ws.range(\"A1:L379\").value\n",
    "table = pd.DataFrame(table, columns=table[0])\n",
    "table.drop([0], inplace=True)"
   ]
  },
  {
   "cell_type": "code",
   "execution_count": 71,
   "id": "15a642b4",
   "metadata": {},
   "outputs": [],
   "source": [
    "table = table.to_sql('opel_jones_d2',conn)"
   ]
  },
  {
   "cell_type": "code",
   "execution_count": 27,
   "id": "570cb537",
   "metadata": {},
   "outputs": [],
   "source": [
    "t = [0,1,3]"
   ]
  },
  {
   "cell_type": "code",
   "execution_count": 33,
   "id": "1874480e",
   "metadata": {},
   "outputs": [
    {
     "data": {
      "text/plain": [
       "range(0, 3)"
      ]
     },
     "execution_count": 33,
     "metadata": {},
     "output_type": "execute_result"
    }
   ],
   "source": [
    "r = range(len(t))\n",
    "r"
   ]
  },
  {
   "cell_type": "code",
   "execution_count": 34,
   "id": "5f95eac0",
   "metadata": {},
   "outputs": [],
   "source": [
    "i = [i for i in r]"
   ]
  },
  {
   "cell_type": "code",
   "execution_count": 35,
   "id": "065f7ee4",
   "metadata": {},
   "outputs": [
    {
     "data": {
      "text/plain": [
       "[0, 1, 2]"
      ]
     },
     "execution_count": 35,
     "metadata": {},
     "output_type": "execute_result"
    }
   ],
   "source": [
    "i"
   ]
  },
  {
   "cell_type": "code",
   "execution_count": 36,
   "id": "d58a6ce0",
   "metadata": {},
   "outputs": [],
   "source": [
    "ws = xw.Book('developercrossreference.xls').sheets['developercrossreference']"
   ]
  },
  {
   "cell_type": "code",
   "execution_count": 37,
   "id": "1db827d4",
   "metadata": {},
   "outputs": [],
   "source": [
    "table = ws.range(\"A1:B369\").value"
   ]
  },
  {
   "cell_type": "code",
   "execution_count": 38,
   "id": "0856ddf4",
   "metadata": {},
   "outputs": [],
   "source": [
    "table = pd.DataFrame(table, columns=table[0])\n",
    "table.drop([0], inplace=True)"
   ]
  },
  {
   "cell_type": "code",
   "execution_count": 39,
   "id": "7452a3cb",
   "metadata": {},
   "outputs": [],
   "source": [
    "table = table.to_sql('developercrossreference',conn)"
   ]
  },
  {
   "cell_type": "code",
   "execution_count": 41,
   "id": "30e62e1b",
   "metadata": {},
   "outputs": [],
   "source": [
    "table = pd.read_sql_query('select * from developercrossreference',conn)"
   ]
  },
  {
   "cell_type": "code",
   "execution_count": 42,
   "id": "193fbe58",
   "metadata": {},
   "outputs": [
    {
     "data": {
      "text/html": [
       "<div>\n",
       "<style scoped>\n",
       "    .dataframe tbody tr th:only-of-type {\n",
       "        vertical-align: middle;\n",
       "    }\n",
       "\n",
       "    .dataframe tbody tr th {\n",
       "        vertical-align: top;\n",
       "    }\n",
       "\n",
       "    .dataframe thead th {\n",
       "        text-align: right;\n",
       "    }\n",
       "</style>\n",
       "<table border=\"1\" class=\"dataframe\">\n",
       "  <thead>\n",
       "    <tr style=\"text-align: right;\">\n",
       "      <th></th>\n",
       "      <th>index</th>\n",
       "      <th>Contributor Name</th>\n",
       "      <th>Developer/Developer Affiliated</th>\n",
       "    </tr>\n",
       "  </thead>\n",
       "  <tbody>\n",
       "    <tr>\n",
       "      <th>0</th>\n",
       "      <td>1</td>\n",
       "      <td>29 Susquehanna Investors LLC</td>\n",
       "      <td>Yes</td>\n",
       "    </tr>\n",
       "    <tr>\n",
       "      <th>1</th>\n",
       "      <td>2</td>\n",
       "      <td>Abrams Development Grou, Inc.</td>\n",
       "      <td>Yes</td>\n",
       "    </tr>\n",
       "    <tr>\n",
       "      <th>2</th>\n",
       "      <td>3</td>\n",
       "      <td>Adler, Delphine</td>\n",
       "      <td>yes</td>\n",
       "    </tr>\n",
       "    <tr>\n",
       "      <th>3</th>\n",
       "      <td>4</td>\n",
       "      <td>Adler, Steve</td>\n",
       "      <td>Yes</td>\n",
       "    </tr>\n",
       "    <tr>\n",
       "      <th>4</th>\n",
       "      <td>5</td>\n",
       "      <td>Akpan, Imoh</td>\n",
       "      <td>maybe</td>\n",
       "    </tr>\n",
       "    <tr>\n",
       "      <th>...</th>\n",
       "      <td>...</td>\n",
       "      <td>...</td>\n",
       "      <td>...</td>\n",
       "    </tr>\n",
       "    <tr>\n",
       "      <th>363</th>\n",
       "      <td>364</td>\n",
       "      <td>Yocum, Richard</td>\n",
       "      <td>None</td>\n",
       "    </tr>\n",
       "    <tr>\n",
       "      <th>364</th>\n",
       "      <td>365</td>\n",
       "      <td>Yocum, Richard</td>\n",
       "      <td>None</td>\n",
       "    </tr>\n",
       "    <tr>\n",
       "      <th>365</th>\n",
       "      <td>366</td>\n",
       "      <td>Yocum, Richard</td>\n",
       "      <td>yes</td>\n",
       "    </tr>\n",
       "    <tr>\n",
       "      <th>366</th>\n",
       "      <td>367</td>\n",
       "      <td>Yuhas, Frances</td>\n",
       "      <td>No</td>\n",
       "    </tr>\n",
       "    <tr>\n",
       "      <th>367</th>\n",
       "      <td>368</td>\n",
       "      <td>Yungmann, Kevin</td>\n",
       "      <td>yes</td>\n",
       "    </tr>\n",
       "  </tbody>\n",
       "</table>\n",
       "<p>368 rows × 3 columns</p>\n",
       "</div>"
      ],
      "text/plain": [
       "     index               Contributor Name Developer/Developer Affiliated\n",
       "0        1   29 Susquehanna Investors LLC                            Yes\n",
       "1        2  Abrams Development Grou, Inc.                            Yes\n",
       "2        3                Adler, Delphine                            yes\n",
       "3        4                   Adler, Steve                            Yes\n",
       "4        5                    Akpan, Imoh                          maybe\n",
       "..     ...                            ...                            ...\n",
       "363    364                 Yocum, Richard                           None\n",
       "364    365                 Yocum, Richard                           None\n",
       "365    366                 Yocum, Richard                            yes\n",
       "366    367                 Yuhas, Frances                             No\n",
       "367    368                Yungmann, Kevin                            yes\n",
       "\n",
       "[368 rows x 3 columns]"
      ]
     },
     "execution_count": 42,
     "metadata": {},
     "output_type": "execute_result"
    }
   ],
   "source": [
    "table"
   ]
  },
  {
   "cell_type": "code",
   "execution_count": null,
   "id": "515db8e1",
   "metadata": {},
   "outputs": [],
   "source": []
  }
 ],
 "metadata": {
  "kernelspec": {
   "display_name": "Python 3 (ipykernel)",
   "language": "python",
   "name": "python3"
  },
  "language_info": {
   "codemirror_mode": {
    "name": "ipython",
    "version": 3
   },
   "file_extension": ".py",
   "mimetype": "text/x-python",
   "name": "python",
   "nbconvert_exporter": "python",
   "pygments_lexer": "ipython3",
   "version": "3.9.13"
  }
 },
 "nbformat": 4,
 "nbformat_minor": 5
}
